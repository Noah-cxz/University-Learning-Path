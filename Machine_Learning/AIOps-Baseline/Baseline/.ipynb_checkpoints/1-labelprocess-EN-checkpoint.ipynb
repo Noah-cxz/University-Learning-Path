{
 "cells": [
  {
   "cell_type": "markdown",
   "metadata": {},
   "source": [
    "# Lable Processing"
   ]
  },
  {
   "cell_type": "code",
   "execution_count": 2,
   "metadata": {},
   "outputs": [],
   "source": [
    "import pandas as pd\n",
    "import numpy as np\n",
    "import re"
   ]
  },
  {
   "cell_type": "code",
   "execution_count": 2,
   "metadata": {},
   "outputs": [
    {
     "data": {
      "text/plain": [
       "array([[False, False],\n",
       "       [False, False],\n",
       "       [False, False],\n",
       "       ...,\n",
       "       [False, False],\n",
       "       [False, False],\n",
       "       [False, False]])"
      ]
     },
     "execution_count": 2,
     "metadata": {},
     "output_type": "execute_result"
    }
   ],
   "source": [
    "df = pd.read_csv(\"train_label.csv\")\n",
    "pd.isna(df).values"
   ]
  },
  {
   "cell_type": "code",
   "execution_count": 3,
   "metadata": {},
   "outputs": [
    {
     "data": {
      "text/plain": [
       "array([[670, 'rootcause3'],\n",
       "       [673, 'rootcause3'],\n",
       "       [675, 'rootcause3'],\n",
       "       ...,\n",
       "       [2981, 'rootcause3'],\n",
       "       [2982, 'rootcause3'],\n",
       "       [2983, 'rootcause3']], dtype=object)"
      ]
     },
     "execution_count": 3,
     "metadata": {},
     "output_type": "execute_result"
    }
   ],
   "source": [
    "c = df.values\n",
    "c"
   ]
  },
  {
   "cell_type": "code",
   "execution_count": 4,
   "metadata": {},
   "outputs": [],
   "source": [
    "# create a 'new' array to store the label information\n",
    "new=np.zeros([c.shape[0],7])\n",
    "new[:,0]=c[:,0]"
   ]
  },
  {
   "cell_type": "code",
   "execution_count": 5,
   "metadata": {},
   "outputs": [
    {
     "data": {
      "text/plain": [
       "array([[ 670.,    0.,    0., ...,    0.,    0.,    0.],\n",
       "       [ 673.,    0.,    0., ...,    0.,    0.,    0.],\n",
       "       [ 675.,    0.,    0., ...,    0.,    0.,    0.],\n",
       "       ...,\n",
       "       [2981.,    0.,    0., ...,    0.,    0.,    0.],\n",
       "       [2982.,    0.,    0., ...,    0.,    0.,    0.],\n",
       "       [2983.,    0.,    0., ...,    0.,    0.,    0.]])"
      ]
     },
     "execution_count": 5,
     "metadata": {},
     "output_type": "execute_result"
    }
   ],
   "source": [
    "for i in range(c.shape[0]):\n",
    "    if pd.isna(df).values[i,1] == False:\n",
    "        # re.findall() finds the number in the string\n",
    "        # by summing certain rows of the identity matrix, we get the root label\n",
    "        new[i,1:]=sum(    map(lambda x: np.eye(6)[int(x)-1], re.findall(\"\\d\",c[i,1]) )    ) \n",
    "new  "
   ]
  },
  {
   "cell_type": "code",
   "execution_count": null,
   "metadata": {},
   "outputs": [],
   "source": [
    "print(\"counts\",np.sum(new[:,1:],0)) # frequency of each lable\n",
    "print(\"labeled:\",len(np.nonzero(np.sum(new[:,1:],1))[0])) # number of labeled observations\n",
    "print(\"total:\", len(c[:,0])) # total observations"
   ]
  },
  {
   "cell_type": "code",
   "execution_count": 7,
   "metadata": {},
   "outputs": [],
   "source": [
    "np.savetxt('processed_label.csv', new, delimiter=',')"
   ]
  },
  {
   "cell_type": "code",
   "execution_count": null,
   "metadata": {},
   "outputs": [],
   "source": []
  }
 ],
 "metadata": {
  "kernelspec": {
   "display_name": "Python 3 (ipykernel)",
   "language": "python",
   "name": "python3"
  },
  "language_info": {
   "codemirror_mode": {
    "name": "ipython",
    "version": 3
   },
   "file_extension": ".py",
   "mimetype": "text/x-python",
   "name": "python",
   "nbconvert_exporter": "python",
   "pygments_lexer": "ipython3",
   "version": "3.9.7"
  },
  "metadata": {
   "interpreter": {
    "hash": "30b954c17ac9d24de30e283a9ecc757232c45a95ecdb2ac7f5a79c1e3623a2ed"
   }
  }
 },
 "nbformat": 4,
 "nbformat_minor": 4
}
